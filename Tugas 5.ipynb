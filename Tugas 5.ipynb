{
 "cells": [
  {
   "cell_type": "code",
   "execution_count": 1,
   "metadata": {},
   "outputs": [
    {
     "name": "stdout",
     "output_type": "stream",
     "text": [
      "because i proud to make something new\n",
      "i like programming\n"
     ]
    }
   ],
   "source": [
    "def because():\n",
    "    print(\"because i proud to make something new\")\n",
    "def like():\n",
    "    print(\"i like programming\")\n",
    "because()\n",
    "like()"
   ]
  },
  {
   "cell_type": "code",
   "execution_count": 4,
   "metadata": {},
   "outputs": [
    {
     "name": "stdout",
     "output_type": "stream",
     "text": [
      "nama saya Ahmad Khilman\n",
      "luas persegi panjang adalah 50\n",
      "luas persegi panjang adalah 25\n"
     ]
    }
   ],
   "source": [
    "def perkenalan():\n",
    "    nama=input(\"nama saya\")\n",
    "def luas_persegipanjang(panjang,lebar):\n",
    "    luas=(panjang*lebar)\n",
    "    print(\"luas persegi panjang adalah\",luas)\n",
    "perkenalan()\n",
    "luas_persegipanjang(10,5)\n",
    "luas_persegipanjang(5,5)"
   ]
  },
  {
   "cell_type": "code",
   "execution_count": 1,
   "metadata": {},
   "outputs": [
    {
     "name": "stdout",
     "output_type": "stream",
     "text": [
      "panjang 15\n",
      "lebar6\n",
      "tinggi4\n",
      "luasnya  90\n",
      "volumenya 360\n"
     ]
    }
   ],
   "source": [
    "panjang=int(input(\"panjang\"))\n",
    "lebar=int(input(\"lebar\"))\n",
    "tinggi=int(input(\"tinggi\"))\n",
    "def luasp():\n",
    "    luas=panjang*lebar\n",
    "    return luas\n",
    "def volumeb():\n",
    "    volume=luasp()*tinggi\n",
    "    return volume\n",
    "print(\"luasnya \",luasp())\n",
    "print(\"volumenya\",volumeb())"
   ]
  },
  {
   "cell_type": "code",
   "execution_count": 3,
   "metadata": {},
   "outputs": [
    {
     "name": "stdout",
     "output_type": "stream",
     "text": [
      "angka1 20\n",
      "angka2 20\n",
      "Apakah angka sama dengan angka2 : True\n",
      "Apakah angka1 lebih besar angka2 : False\n"
     ]
    }
   ],
   "source": [
    "#ahmadkhilman\n",
    "angka1 = int(input(\"angka1\"))\n",
    "angka2 = int(input(\"angka2\"))\n",
    "\n",
    "def sama_dengan(angka1,angka2):\n",
    "    sm_dgn = angka1==angka2\n",
    "    print (\"Apakah angka sama dengan angka2 :\", sm_dgn)\n",
    "    \n",
    "def lebih_besar(angka1,angka2):\n",
    "    lbh_bsr = angka1>angka2\n",
    "    print (\"Apakah angka1 lebih besar angka2 :\", lbh_bsr)\n",
    "    \n",
    "sama_dengan(angka1, angka2)\n",
    "lebih_besar(angka1, angka2)"
   ]
  }
 ],
 "metadata": {
  "kernelspec": {
   "display_name": "Python 3",
   "language": "python",
   "name": "python3"
  },
  "language_info": {
   "codemirror_mode": {
    "name": "ipython",
    "version": 3
   },
   "file_extension": ".py",
   "mimetype": "text/x-python",
   "name": "python",
   "nbconvert_exporter": "python",
   "pygments_lexer": "ipython3",
   "version": "3.8.3"
  }
 },
 "nbformat": 4,
 "nbformat_minor": 4
}
