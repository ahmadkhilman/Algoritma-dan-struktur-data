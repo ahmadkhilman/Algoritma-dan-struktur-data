{
 "cells": [
  {
   "cell_type": "code",
   "execution_count": 1,
   "metadata": {},
   "outputs": [
    {
     "name": "stdout",
     "output_type": "stream",
     "text": [
      "hasil 20 + 10 = 30\n",
      "hasil 20 - 10 = 10\n",
      "hasil 20 x 10 = 200\n",
      "hasil 20 : 10 = 2.0\n",
      "hasil 20 sisa bagi 10 = 0\n",
      "hasil 20 pangkat 10 = 10240000000000\n"
     ]
    }
   ],
   "source": [
    "#ahmadkhilman\n",
    "#operatorAritmatika\n",
    "a=20\n",
    "b=10\n",
    "#penjumlahan\n",
    "c=a+b\n",
    "print(\"hasil\",a,\"+\",b,\"=\",c)\n",
    "#pengurangan\n",
    "d=a-b\n",
    "print(\"hasil\",a,\"-\",b,\"=\",d)\n",
    "#perkalian\n",
    "e=a*b\n",
    "print(\"hasil\",a,\"x\",b,\"=\",e)\n",
    "#pembagian\n",
    "f=a/b\n",
    "print(\"hasil\",a,\":\",b,\"=\",f)\n",
    "#sisabagi\n",
    "g=a%b\n",
    "print(\"hasil\",a,\"sisa bagi\",b,\"=\",g)\n",
    "#pemangkatan\n",
    "h=a**b\n",
    "print(\"hasil\",a,\"pangkat\",b,\"=\",h)"
   ]
  },
  {
   "cell_type": "code",
   "execution_count": 2,
   "metadata": {},
   "outputs": [
    {
     "name": "stdout",
     "output_type": "stream",
     "text": [
      "40\n",
      "50\n",
      "40\n",
      "400\n",
      "40.0\n",
      "0.0\n",
      "0.0\n"
     ]
    }
   ],
   "source": [
    "#operatorPenugasan\n",
    "#Pengisian\n",
    "a=40\n",
    "print(a)\n",
    "#penjumlahan\n",
    "a+=10\n",
    "print(a)\n",
    "#pengurangan\n",
    "a-=10\n",
    "print(a)\n",
    "#perkalian\n",
    "a*=10\n",
    "print(a)\n",
    "#pembagian\n",
    "a/=10\n",
    "print(a)\n",
    "#sisabagi\n",
    "a%=10\n",
    "print(a)\n",
    "#pemangkatan\n",
    "a**=10\n",
    "print(a)\n"
   ]
  },
  {
   "cell_type": "code",
   "execution_count": 4,
   "metadata": {},
   "outputs": [
    {
     "name": "stdout",
     "output_type": "stream",
     "text": [
      "apakah a lebih besar dengan b: True\n",
      "apakah a lebih kecil dengan b: False\n",
      "apakah a sama dengan b: False\n",
      "apakah a tidak sama dengan b: True\n",
      "apakah a lebih besar sama dengan b: True\n",
      "apakah a lebih kecil sama dengan b: False\n"
     ]
    }
   ],
   "source": [
    "#operator pembanding\n",
    "a=20\n",
    "b=15\n",
    "#apakah A lebih besar engan B\n",
    "c=a>b\n",
    "print(\"apakah a lebih besar dengan b:\",c)\n",
    "#apakah A lebih jecil dengan B\n",
    "d=a<b\n",
    "print(\"apakah a lebih kecil dengan b:\",d)\n",
    "#apakah A sama dengan B\n",
    "e=a==b\n",
    "print(\"apakah a sama dengan b:\",e)\n",
    "#apakah A tidak sama dengan B \n",
    "f=a!=b\n",
    "print(\"apakah a tidak sama dengan b:\",f)\n",
    "#apakah A lebih besar sama dengan B\n",
    "g=a>=b\n",
    "print(\"apakah a lebih besar sama dengan b:\",g)\n",
    "#apakah A lebih kecil sama dengan B\n",
    "h=a<=b\n",
    "print(\"apakah a lebih kecil sama dengan b:\",h)"
   ]
  },
  {
   "cell_type": "code",
   "execution_count": 1,
   "metadata": {},
   "outputs": [
    {
     "name": "stdout",
     "output_type": "stream",
     "text": [
      "False\n",
      "True\n"
     ]
    },
    {
     "data": {
      "text/plain": [
       "False"
      ]
     },
     "execution_count": 1,
     "metadata": {},
     "output_type": "execute_result"
    }
   ],
   "source": [
    "#OperatorLogika\n",
    "a=True\n",
    "b=False\n",
    "#logika AND\n",
    "c=a and b\n",
    "print(c)\n",
    "#logika OR\n",
    "d=a or b \n",
    "print(d)\n",
    "#negasi/kebalikan\n",
    "not a"
   ]
  },
  {
   "cell_type": "code",
   "execution_count": 4,
   "metadata": {},
   "outputs": [
    {
     "name": "stdout",
     "output_type": "stream",
     "text": [
      "nama bayi?Acung\n",
      "berat bayi? 6\n",
      "nama bayi adalah: Acung berat dalam kg: 6 kg,berat dalam ons: 60 ons,berat bayi dalam 1 bulan ke depan adalah: 90 ons\n"
     ]
    }
   ],
   "source": [
    "#input\n",
    "nama=input(\"nama bayi?\")\n",
    "berat=int(input(\"berat bayi? \"))\n",
    "ons=berat * 10\n",
    "ons1=ons + 30\n",
    "print(\"nama bayi adalah:\",nama,\"berat dalam kg:\",berat,\"kg,berat dalam ons:\",ons,\"ons,berat bayi dalam 1 bulan ke depan adalah:\",ons1,\"ons\")"
   ]
  },
  {
   "cell_type": "code",
   "execution_count": null,
   "metadata": {},
   "outputs": [],
   "source": []
  }
 ],
 "metadata": {
  "kernelspec": {
   "display_name": "Python 3",
   "language": "python",
   "name": "python3"
  },
  "language_info": {
   "codemirror_mode": {
    "name": "ipython",
    "version": 3
   },
   "file_extension": ".py",
   "mimetype": "text/x-python",
   "name": "python",
   "nbconvert_exporter": "python",
   "pygments_lexer": "ipython3",
   "version": "3.8.3"
  }
 },
 "nbformat": 4,
 "nbformat_minor": 4
}
