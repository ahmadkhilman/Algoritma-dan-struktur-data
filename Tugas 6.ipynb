{
 "cells": [
  {
   "cell_type": "code",
   "execution_count": 1,
   "metadata": {},
   "outputs": [
    {
     "name": "stdout",
     "output_type": "stream",
     "text": [
      "masukan nilai 65\n",
      "kamu harus remidi\n"
     ]
    }
   ],
   "source": [
    "#ahmad Khilman\n",
    "nilai = int(input(\"masukan nilai\"))\n",
    "\n",
    "if nilai <= 70:\n",
    "    print(\"kamu harus remidi\")"
   ]
  },
  {
   "cell_type": "code",
   "execution_count": 2,
   "metadata": {},
   "outputs": [
    {
     "name": "stdout",
     "output_type": "stream",
     "text": [
      "masukan jari-jari50\n",
      "luas lingkaran adalah 7850.0 jadi\n",
      "lingkaran ini  lebih besar\n"
     ]
    }
   ],
   "source": [
    "rad =int(input(\"masukan jari-jari\"))\n",
    "\n",
    "luas = 3.14*rad*rad\n",
    "print(\"luas lingkaran adalah\", luas, \"jadi\")\n",
    "if luas >= 314:\n",
    "    print(\"lingkaran ini  lebih besar\")\n",
    "else:\n",
    "    print(\" lingkaran ini kecil\")"
   ]
  },
  {
   "cell_type": "code",
   "execution_count": 3,
   "metadata": {},
   "outputs": [
    {
     "name": "stdout",
     "output_type": "stream",
     "text": [
      "nomer program[1/2] 2\n",
      "sisi 5\n",
      "volume kubus: 125\n"
     ]
    }
   ],
   "source": [
    "def balok():\n",
    "    p=int(input(\"panjang\"))\n",
    "    l=int(input(\"lebar\"))\n",
    "    t=int(input(\"tinggi\"))\n",
    "    v_balok=p*l*t\n",
    "    return v_balok\n",
    "def kubus():\n",
    "    s=int(input(\"sisi\"))\n",
    "    v_kubus=s*s*s\n",
    "    return v_kubus\n",
    "nomer=int(input(\"nomer program[1/2]\"))\n",
    "if nomer ==1:\n",
    "    print(\"volume balok:\", balok())\n",
    "elif nomer ==2:\n",
    "    print(\"volume kubus:\", kubus())\n",
    "else:\n",
    "    print(\"program tidak tersedia\")"
   ]
  }
 ],
 "metadata": {
  "kernelspec": {
   "display_name": "Python 3",
   "language": "python",
   "name": "python3"
  },
  "language_info": {
   "codemirror_mode": {
    "name": "ipython",
    "version": 3
   },
   "file_extension": ".py",
   "mimetype": "text/x-python",
   "name": "python",
   "nbconvert_exporter": "python",
   "pygments_lexer": "ipython3",
   "version": "3.8.3"
  }
 },
 "nbformat": 4,
 "nbformat_minor": 4
}
